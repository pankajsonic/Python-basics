{
 "cells": [
  {
   "cell_type": "markdown",
   "id": "2ffa5462-cc81-4b6d-a9f3-2d61ba7d62cf",
   "metadata": {},
   "source": [
    "print(\"hello world\")\n",
    "ques 2 - Identifier is nothing but naming in python programm it can be class name, function name and varriable name .\n",
    "\n",
    "RUles of identifier.\n",
    "1 - We cant use digit in identifer.\n",
    "2 - we can use albhabet. it can be uppercase or lowercase.\n",
    "3 - we can use digit after the albhapet to make identifier for example num1.\n",
    "4- we can also use underscore.\n",
    "5 - it is case sensetive.\n"
   ]
  },
  {
   "cell_type": "markdown",
   "id": "1829f59d-95a4-4892-8a07-10a74ee3509a",
   "metadata": {},
   "source": [
    "ques 3 - what is comment and why it is useful?\n",
    "Ans - comment are used in python for explain any type of code and logic in python it can be any message and  information about the code which we want to explain. In projects there are multiple people using the file so it will be helpul to convey the commment of particular code so other user can easily understand. comment are not readible and compliled by python. it can done by using # \n",
    "for example -\n"
   ]
  },
  {
   "cell_type": "code",
   "execution_count": 12,
   "id": "d660165f-3f4a-45e4-9976-218f6ac873fc",
   "metadata": {},
   "outputs": [
    {
     "name": "stdout",
     "output_type": "stream",
     "text": [
      "5\n",
      "6\n",
      "7\n",
      "8\n",
      "9\n"
     ]
    }
   ],
   "source": [
    "\n",
    "for i in range(5,10):\n",
    "#we want to start from 5\n",
    " print(i)\n"
   ]
  },
  {
   "cell_type": "code",
   "execution_count": null,
   "id": "7c549493-77c3-46dd-b184-c3435f9da16d",
   "metadata": {},
   "outputs": [],
   "source": [
    "we can use comment simply by dog string also "
   ]
  },
  {
   "cell_type": "code",
   "execution_count": 11,
   "id": "51dd262e-a044-421d-85d9-b14974c3d103",
   "metadata": {},
   "outputs": [
    {
     "data": {
      "text/plain": [
       "'\\nthe \\nworld is \\nmysterious\\n'"
      ]
     },
     "execution_count": 11,
     "metadata": {},
     "output_type": "execute_result"
    }
   ],
   "source": [
    "\"\"\"\n",
    "the \n",
    "world is \n",
    "mysterious\n",
    "\"\"\"\n"
   ]
  },
  {
   "cell_type": "markdown",
   "id": "353f6268-75ef-44bc-827d-4613969d4984",
   "metadata": {},
   "source": [
    "ques 1\n",
    "Ans - Keyword in python are predefined words which has speacial purpose or meaning in python language. we cant use keyword as varriables. python keyword are case sensetive.\n",
    "ex of keywords \n",
    "1 - for\n",
    "2 - while\n",
    "3 - elif \n",
    "4 - else\n",
    "5 - import"
   ]
  },
  {
   "cell_type": "markdown",
   "id": "950a9333-c288-4965-88db-6c7bb7f4cc90",
   "metadata": {},
   "source": []
  },
  {
   "cell_type": "markdown",
   "id": "a6efc2c7-e593-4b94-a826-6990b4099572",
   "metadata": {},
   "source": [
    "ques 4 -\n",
    "Ans - Indetation are structure in python which shows which lines belongs to where . Indentation refers to the spaces thar are used in the beginning of statement.by deafault there are 4 spaces and it can be changed.\n"
   ]
  },
  {
   "cell_type": "markdown",
   "id": "f913bb4b-2817-4797-a317-48f9eccdef7c",
   "metadata": {},
   "source": [
    "ques 5 - \n",
    "Ans - if Indentation is incorrect error occurs , \n",
    "                                              when the number of spaces at the beginning of a block is not equal to the number of spaces assigned at the end."
   ]
  },
  {
   "cell_type": "code",
   "execution_count": null,
   "id": "e5941cf9-6dd0-4138-9393-d274e1b455dd",
   "metadata": {},
   "outputs": [],
   "source": [
    "ques 6 - \n",
    "ans - A statement is an instruction that the Python interpreter can execute. \n",
    "An expression is a combination of values, variables, operators, and calls to functions. Expressions need to be evaluated. If you ask Python to print an expression, the interpreter evaluates the expression and displays the result."
   ]
  }
 ],
 "metadata": {
  "kernelspec": {
   "display_name": "Python 3 (ipykernel)",
   "language": "python",
   "name": "python3"
  },
  "language_info": {
   "codemirror_mode": {
    "name": "ipython",
    "version": 3
   },
   "file_extension": ".py",
   "mimetype": "text/x-python",
   "name": "python",
   "nbconvert_exporter": "python",
   "pygments_lexer": "ipython3",
   "version": "3.11.7"
  }
 },
 "nbformat": 4,
 "nbformat_minor": 5
}
