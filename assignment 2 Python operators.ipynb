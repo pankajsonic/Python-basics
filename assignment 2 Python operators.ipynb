{
 "cells": [
  {
   "cell_type": "code",
   "execution_count": 2,
   "id": "b8934fd9-cadd-456e-adde-8e139c23041a",
   "metadata": {},
   "outputs": [
    {
     "data": {
      "text/plain": [
       "172"
      ]
     },
     "execution_count": 2,
     "metadata": {},
     "output_type": "execute_result"
    }
   ],
   "source": [
    "a = 105\n",
    "b = 67\n",
    "a+b"
   ]
  },
  {
   "cell_type": "code",
   "execution_count": 3,
   "id": "11a9e708-0c28-4436-93f0-cdc60e1b98bc",
   "metadata": {},
   "outputs": [
    {
     "name": "stdout",
     "output_type": "stream",
     "text": [
      "7035\n"
     ]
    }
   ],
   "source": [
    "print(a*b)"
   ]
  },
  {
   "cell_type": "code",
   "execution_count": 4,
   "id": "93f862cc-738f-4efe-83d6-a55fcfaf91e2",
   "metadata": {},
   "outputs": [
    {
     "name": "stdout",
     "output_type": "stream",
     "text": [
      "10\n"
     ]
    }
   ],
   "source": [
    "a = 10\n",
    "b = 32\n",
    "print(a%b)"
   ]
  },
  {
   "cell_type": "code",
   "execution_count": 6,
   "id": "05eb6a4d-e4b3-47e0-b6e3-19c9dc12e7a3",
   "metadata": {},
   "outputs": [
    {
     "name": "stdout",
     "output_type": "stream",
     "text": [
      "193136\n"
     ]
    }
   ],
   "source": [
    "a = 567463\n",
    "b = 374327\n",
    "print(a-b)"
   ]
  },
  {
   "cell_type": "code",
   "execution_count": 7,
   "id": "fa20fa44-ca52-474e-bfed-6d098fde5776",
   "metadata": {},
   "outputs": [
    {
     "data": {
      "text/plain": [
       "True"
      ]
     },
     "execution_count": 7,
     "metadata": {},
     "output_type": "execute_result"
    }
   ],
   "source": [
    "105==105\n"
   ]
  },
  {
   "cell_type": "code",
   "execution_count": 8,
   "id": "d82d2f29-a13c-4003-849a-a4379f7cf82a",
   "metadata": {},
   "outputs": [
    {
     "data": {
      "text/plain": [
       "False"
      ]
     },
     "execution_count": 8,
     "metadata": {},
     "output_type": "execute_result"
    }
   ],
   "source": [
    "28>=56"
   ]
  },
  {
   "cell_type": "code",
   "execution_count": 9,
   "id": "f927db84-cf31-4f3f-9e83-86c4edfa88bb",
   "metadata": {},
   "outputs": [
    {
     "data": {
      "text/plain": [
       "True"
      ]
     },
     "execution_count": 9,
     "metadata": {},
     "output_type": "execute_result"
    }
   ],
   "source": [
    "56!=89"
   ]
  },
  {
   "cell_type": "code",
   "execution_count": 10,
   "id": "f8656463-651b-4233-ad05-4fb780f42bca",
   "metadata": {},
   "outputs": [
    {
     "data": {
      "text/plain": [
       "True"
      ]
     },
     "execution_count": 10,
     "metadata": {},
     "output_type": "execute_result"
    }
   ],
   "source": [
    "56>43"
   ]
  },
  {
   "cell_type": "code",
   "execution_count": 13,
   "id": "e68fa6c7-d7ba-40b4-9d8a-7985a3abd5a1",
   "metadata": {},
   "outputs": [
    {
     "name": "stdout",
     "output_type": "stream",
     "text": [
      "True\n"
     ]
    }
   ],
   "source": [
    "a = 5\n",
    "b = 10\n",
    "print(b>a)"
   ]
  },
  {
   "cell_type": "code",
   "execution_count": 15,
   "id": "d505ca5a-4e1f-4811-b3b9-d2550ca4d349",
   "metadata": {},
   "outputs": [
    {
     "data": {
      "text/plain": [
       "True"
      ]
     },
     "execution_count": 15,
     "metadata": {},
     "output_type": "execute_result"
    }
   ],
   "source": [
    "True or false"
   ]
  },
  {
   "cell_type": "code",
   "execution_count": 18,
   "id": "7574bf3e-37ca-4f36-8979-a15e3c8e380f",
   "metadata": {},
   "outputs": [
    {
     "name": "stdout",
     "output_type": "stream",
     "text": [
      "you are eligible\n"
     ]
    }
   ],
   "source": [
    "age = 25\n",
    "points = 10000\n",
    "if age>+20 and points>8000:\n",
    " print(\"you are eligible\")\n",
    "else:\n",
    " print(\"you are ineligible\")"
   ]
  },
  {
   "cell_type": "code",
   "execution_count": 19,
   "id": "e397dc01-afaa-443d-be5a-d88bd29c1339",
   "metadata": {},
   "outputs": [
    {
     "data": {
      "text/plain": [
       "True"
      ]
     },
     "execution_count": 19,
     "metadata": {},
     "output_type": "execute_result"
    }
   ],
   "source": [
    "wheat = 10\n",
    "price = 150 \n",
    "wheat>20 or price<200"
   ]
  },
  {
   "cell_type": "code",
   "execution_count": 37,
   "id": "5fcf6ddc-0b8a-4e5b-aaf8-f5992042d501",
   "metadata": {},
   "outputs": [
    {
     "data": {
      "text/plain": [
       "87"
      ]
     },
     "execution_count": 37,
     "metadata": {},
     "output_type": "execute_result"
    }
   ],
   "source": [
    "x = 67\n",
    "x+20"
   ]
  },
  {
   "cell_type": "code",
   "execution_count": 38,
   "id": "0addd5ac-fafc-4c26-b2f9-4f456e4664ea",
   "metadata": {},
   "outputs": [
    {
     "data": {
      "text/plain": [
       "67"
      ]
     },
     "execution_count": 38,
     "metadata": {},
     "output_type": "execute_result"
    }
   ],
   "source": [
    "x"
   ]
  },
  {
   "cell_type": "code",
   "execution_count": 44,
   "id": "76e1ac18-ddde-4032-bc5f-3c1f872f0583",
   "metadata": {},
   "outputs": [
    {
     "data": {
      "text/plain": [
       "154584"
      ]
     },
     "execution_count": 44,
     "metadata": {},
     "output_type": "execute_result"
    }
   ],
   "source": [
    "x*76"
   ]
  },
  {
   "cell_type": "code",
   "execution_count": 45,
   "id": "e192bd24-cdcb-45d5-909b-6e944d6c06dc",
   "metadata": {},
   "outputs": [
    {
     "data": {
      "text/plain": [
       "2034"
      ]
     },
     "execution_count": 45,
     "metadata": {},
     "output_type": "execute_result"
    }
   ],
   "source": [
    "x"
   ]
  },
  {
   "cell_type": "code",
   "execution_count": 50,
   "id": "6507035f-722d-450b-90ca-113fe65c805b",
   "metadata": {},
   "outputs": [
    {
     "name": "stdout",
     "output_type": "stream",
     "text": [
      "41656320\n"
     ]
    }
   ],
   "source": [
    "x*=8\n",
    "print(x)"
   ]
  },
  {
   "cell_type": "code",
   "execution_count": 53,
   "id": "c822c969-3189-4880-b359-01a65719b748",
   "metadata": {},
   "outputs": [
    {
     "data": {
      "text/plain": [
       "False"
      ]
     },
     "execution_count": 53,
     "metadata": {},
     "output_type": "execute_result"
    }
   ],
   "source": [
    "a = \"genious\"\n",
    "b = \"crazy\"\n",
    "b is a"
   ]
  },
  {
   "cell_type": "code",
   "execution_count": 54,
   "id": "5c8b581f-802a-42ec-9dc0-12d98a400c3e",
   "metadata": {},
   "outputs": [
    {
     "data": {
      "text/plain": [
       "True"
      ]
     },
     "execution_count": 54,
     "metadata": {},
     "output_type": "execute_result"
    }
   ],
   "source": [
    "c = a\n",
    "a is c"
   ]
  },
  {
   "cell_type": "code",
   "execution_count": 64,
   "id": "40a85844-99af-41ba-8d81-4253f1addcc5",
   "metadata": {},
   "outputs": [
    {
     "data": {
      "text/plain": [
       "True"
      ]
     },
     "execution_count": 64,
     "metadata": {},
     "output_type": "execute_result"
    }
   ],
   "source": [
    "beauty = \"attraction\"\n",
    "kindness = beauty\n",
    "cuteness = \"love\"\n",
    "\n",
    "kindness is not cuteness\n"
   ]
  },
  {
   "cell_type": "code",
   "execution_count": 69,
   "id": "53b5b6ca-c6c6-4dfc-9c72-c473b29ec6f3",
   "metadata": {},
   "outputs": [
    {
     "data": {
      "text/plain": [
       "9"
      ]
     },
     "execution_count": 69,
     "metadata": {},
     "output_type": "execute_result"
    }
   ],
   "source": [
    "9 or 5"
   ]
  },
  {
   "cell_type": "code",
   "execution_count": 70,
   "id": "c40f4ca0-d2c4-4201-9023-88d77c7250b3",
   "metadata": {},
   "outputs": [
    {
     "data": {
      "text/plain": [
       "'0b1001'"
      ]
     },
     "execution_count": 70,
     "metadata": {},
     "output_type": "execute_result"
    }
   ],
   "source": [
    "bin(9)"
   ]
  },
  {
   "cell_type": "code",
   "execution_count": 71,
   "id": "c46dcd7d-d74d-40dd-b5b6-e921c9404ea5",
   "metadata": {},
   "outputs": [
    {
     "data": {
      "text/plain": [
       "'0b101'"
      ]
     },
     "execution_count": 71,
     "metadata": {},
     "output_type": "execute_result"
    }
   ],
   "source": [
    "bin(5)"
   ]
  },
  {
   "cell_type": "code",
   "execution_count": 1,
   "id": "1e6fa6b2-df1d-41c5-8fbf-0a54ce8de493",
   "metadata": {},
   "outputs": [
    {
     "name": "stdout",
     "output_type": "stream",
     "text": [
      "-56\n"
     ]
    }
   ],
   "source": [
    "#unary operator\n",
    "x = 56\n",
    "print(-x)"
   ]
  },
  {
   "cell_type": "code",
   "execution_count": 4,
   "id": "f768b8f8-10a4-4fed-8fae-46135b6ace65",
   "metadata": {},
   "outputs": [
    {
     "name": "stdout",
     "output_type": "stream",
     "text": [
      "2000\n"
     ]
    }
   ],
   "source": [
    "a = -2000\n",
    "print(-a)"
   ]
  },
  {
   "cell_type": "code",
   "execution_count": 7,
   "id": "55f529b0-403b-4d34-a66c-591fa15c9d4d",
   "metadata": {},
   "outputs": [
    {
     "name": "stdout",
     "output_type": "stream",
     "text": [
      "eligible\n"
     ]
    }
   ],
   "source": [
    "#ternary operators\n",
    "x = 25\n",
    "print(\"eligible\") if x>18 else print(\"ineligible\")"
   ]
  },
  {
   "cell_type": "code",
   "execution_count": null,
   "id": "ea111305-1a40-4d91-86f5-1d99cac55de8",
   "metadata": {},
   "outputs": [],
   "source": []
  }
 ],
 "metadata": {
  "kernelspec": {
   "display_name": "Python 3 (ipykernel)",
   "language": "python",
   "name": "python3"
  },
  "language_info": {
   "codemirror_mode": {
    "name": "ipython",
    "version": 3
   },
   "file_extension": ".py",
   "mimetype": "text/x-python",
   "name": "python",
   "nbconvert_exporter": "python",
   "pygments_lexer": "ipython3",
   "version": "3.11.7"
  }
 },
 "nbformat": 4,
 "nbformat_minor": 5
}
