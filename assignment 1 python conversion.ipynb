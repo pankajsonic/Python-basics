{
 "cells": [
  {
   "cell_type": "code",
   "execution_count": 7,
   "id": "92699e76-9d61-4e39-8fcc-7ab848646f84",
   "metadata": {},
   "outputs": [
    {
     "name": "stdout",
     "output_type": "stream",
     "text": [
      "hello world\n"
     ]
    }
   ],
   "source": [
    "print(\"hello world\")\n",
    "\n"
   ]
  },
  {
   "cell_type": "code",
   "execution_count": 8,
   "id": "798dec25-6ac8-4758-b4b0-133b2c0a94ed",
   "metadata": {},
   "outputs": [],
   "source": [
    "a = 8"
   ]
  },
  {
   "cell_type": "code",
   "execution_count": 9,
   "id": "5d368415-0f29-434d-8f5b-3d5bfde7b7b2",
   "metadata": {},
   "outputs": [
    {
     "data": {
      "text/plain": [
       "int"
      ]
     },
     "execution_count": 9,
     "metadata": {},
     "output_type": "execute_result"
    }
   ],
   "source": [
    "type(a)"
   ]
  },
  {
   "cell_type": "code",
   "execution_count": 10,
   "id": "1d5cc701-7e75-4bdb-b2eb-298784a21131",
   "metadata": {},
   "outputs": [],
   "source": [
    "b = float(a)"
   ]
  },
  {
   "cell_type": "code",
   "execution_count": 11,
   "id": "95b20839-beac-4404-b915-a113d9b97935",
   "metadata": {},
   "outputs": [
    {
     "data": {
      "text/plain": [
       "float"
      ]
     },
     "execution_count": 11,
     "metadata": {},
     "output_type": "execute_result"
    }
   ],
   "source": [
    "type(b)"
   ]
  },
  {
   "cell_type": "code",
   "execution_count": 12,
   "id": "44b14e23-b624-4fda-90c3-063f4180b439",
   "metadata": {},
   "outputs": [],
   "source": [
    "x = 4.5"
   ]
  },
  {
   "cell_type": "code",
   "execution_count": 13,
   "id": "ed31b5b5-6ec7-4e38-b1bc-ad1eecb8f4f6",
   "metadata": {},
   "outputs": [
    {
     "data": {
      "text/plain": [
       "float"
      ]
     },
     "execution_count": 13,
     "metadata": {},
     "output_type": "execute_result"
    }
   ],
   "source": [
    "type(x)"
   ]
  },
  {
   "cell_type": "code",
   "execution_count": 14,
   "id": "20573bbe-19a7-41ba-a19e-67fc098e21d8",
   "metadata": {},
   "outputs": [],
   "source": [
    "y = int(4.5)"
   ]
  },
  {
   "cell_type": "code",
   "execution_count": 15,
   "id": "ac2f66d5-39df-4b1f-aa49-502035a3fb4b",
   "metadata": {},
   "outputs": [
    {
     "data": {
      "text/plain": [
       "int"
      ]
     },
     "execution_count": 15,
     "metadata": {},
     "output_type": "execute_result"
    }
   ],
   "source": [
    "type(y)"
   ]
  },
  {
   "cell_type": "code",
   "execution_count": 16,
   "id": "b654ded8-f4e4-4de3-b767-448c7ca98000",
   "metadata": {},
   "outputs": [],
   "source": [
    "x = 10"
   ]
  },
  {
   "cell_type": "code",
   "execution_count": 17,
   "id": "664c57d3-e852-4229-a8e4-8faf8e5ce778",
   "metadata": {},
   "outputs": [
    {
     "data": {
      "text/plain": [
       "int"
      ]
     },
     "execution_count": 17,
     "metadata": {},
     "output_type": "execute_result"
    }
   ],
   "source": [
    "type(x)"
   ]
  },
  {
   "cell_type": "code",
   "execution_count": 18,
   "id": "34ec68bb-fcf8-453c-91c7-2990c37a2c07",
   "metadata": {},
   "outputs": [],
   "source": [
    "y = str(x)"
   ]
  },
  {
   "cell_type": "code",
   "execution_count": 19,
   "id": "9e33e51a-734f-4472-90c6-4d4a7436c5e4",
   "metadata": {},
   "outputs": [
    {
     "data": {
      "text/plain": [
       "str"
      ]
     },
     "execution_count": 19,
     "metadata": {},
     "output_type": "execute_result"
    }
   ],
   "source": [
    "type(y)"
   ]
  },
  {
   "cell_type": "code",
   "execution_count": 20,
   "id": "ee19ab5d-d13a-4a74-bf36-491e8bc90bb9",
   "metadata": {},
   "outputs": [],
   "source": [
    "l = [1,2,3,4,5,]\n",
    "t = tuple(l)"
   ]
  },
  {
   "cell_type": "code",
   "execution_count": 22,
   "id": "2ccd7140-6816-4bab-85bf-637431b327ad",
   "metadata": {},
   "outputs": [
    {
     "name": "stdout",
     "output_type": "stream",
     "text": [
      "<class 'tuple'>\n"
     ]
    }
   ],
   "source": [
    "print(type(t))"
   ]
  },
  {
   "cell_type": "code",
   "execution_count": 24,
   "id": "13b647ea-2cd4-4b46-8bbc-617194fae312",
   "metadata": {},
   "outputs": [],
   "source": [
    "tup = (\"ganga , jamuna , saraswati , shipra\")"
   ]
  },
  {
   "cell_type": "code",
   "execution_count": 25,
   "id": "b75ffb4b-29ec-44d9-99c1-c7fc236630ef",
   "metadata": {},
   "outputs": [],
   "source": [
    "l = list(tup)"
   ]
  },
  {
   "cell_type": "code",
   "execution_count": 27,
   "id": "a6b6e185-2eff-4893-914a-544543a6ef5f",
   "metadata": {},
   "outputs": [
    {
     "name": "stdout",
     "output_type": "stream",
     "text": [
      "<class 'list'>\n"
     ]
    }
   ],
   "source": [
    "print(type(l))"
   ]
  },
  {
   "cell_type": "code",
   "execution_count": 34,
   "id": "55a97db7-425b-418c-8b25-0d832f0914e6",
   "metadata": {},
   "outputs": [
    {
     "name": "stdin",
     "output_type": "stream",
     "text": [
      "the value of decimal is : 98\n"
     ]
    }
   ],
   "source": [
    "x = int(input('the value of decimal is :'))\n"
   ]
  },
  {
   "cell_type": "code",
   "execution_count": 35,
   "id": "39b65e67-20dc-490d-a9c7-20f878607812",
   "metadata": {},
   "outputs": [
    {
     "name": "stdout",
     "output_type": "stream",
     "text": [
      "0b1100010\n"
     ]
    }
   ],
   "source": [
    "print(bin(x))"
   ]
  },
  {
   "cell_type": "code",
   "execution_count": 38,
   "id": "cf95c725-2e47-4446-9160-6842b6d8a31c",
   "metadata": {},
   "outputs": [],
   "source": [
    "a = 3"
   ]
  },
  {
   "cell_type": "code",
   "execution_count": 39,
   "id": "467fd566-cb2e-482c-80dc-b7a840869a00",
   "metadata": {},
   "outputs": [
    {
     "name": "stdout",
     "output_type": "stream",
     "text": [
      "True\n"
     ]
    }
   ],
   "source": [
    "print(bool(a))"
   ]
  },
  {
   "cell_type": "code",
   "execution_count": null,
   "id": "79d31aab-1200-4618-889e-3997e04f78db",
   "metadata": {},
   "outputs": [],
   "source": []
  }
 ],
 "metadata": {
  "kernelspec": {
   "display_name": "Python 3 (ipykernel)",
   "language": "python",
   "name": "python3"
  },
  "language_info": {
   "codemirror_mode": {
    "name": "ipython",
    "version": 3
   },
   "file_extension": ".py",
   "mimetype": "text/x-python",
   "name": "python",
   "nbconvert_exporter": "python",
   "pygments_lexer": "ipython3",
   "version": "3.11.7"
  }
 },
 "nbformat": 4,
 "nbformat_minor": 5
}
