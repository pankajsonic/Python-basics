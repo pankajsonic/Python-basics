{
 "cells": [
  {
   "cell_type": "code",
   "execution_count": 7,
   "id": "16439c79-cf83-44da-9418-81d03774fce1",
   "metadata": {},
   "outputs": [
    {
     "name": "stdout",
     "output_type": "stream",
     "text": [
      "0\n",
      "1\n",
      "2\n",
      "3\n",
      "4\n"
     ]
    }
   ],
   "source": [
    "i = 0 \n",
    "for i in range(0,11):\n",
    "    if i == 5:\n",
    "        break\n",
    "    print(i)"
   ]
  },
  {
   "cell_type": "code",
   "execution_count": 87,
   "id": "1b8f92fa-4af2-49be-9db1-4c942f3e8d67",
   "metadata": {},
   "outputs": [
    {
     "name": "stdout",
     "output_type": "stream",
     "text": [
      "ganga\n",
      "jamuna\n"
     ]
    }
   ],
   "source": [
    "i = [ \"ganga\" , \"jamuna\" , \"saraswati\" , \"godawari\" , \"shipra\" , \"mahi\" ]\n",
    "for k in i:\n",
    "     if k==\"saraswati\":\n",
    "         break\n",
    "     print(k)   "
   ]
  },
  {
   "cell_type": "code",
   "execution_count": 91,
   "id": "6d335f4a-556e-40ee-8579-5bd16b26a928",
   "metadata": {},
   "outputs": [
    {
     "name": "stdout",
     "output_type": "stream",
     "text": [
      "1  -   1\n",
      "2  -   3\n",
      "3  -   5\n",
      "4  -   7\n",
      "5  -   9\n"
     ]
    }
   ],
   "source": [
    "k = 1\n",
    "for i in range(0,10):\n",
    "      if i % 2 == 0:\n",
    "        continue\n",
    "      print( k ,\" -  \",i)\n",
    "      k = k+1"
   ]
  },
  {
   "cell_type": "code",
   "execution_count": 92,
   "id": "0d53fc8f-92b6-4bc6-93df-d11667ae3c9a",
   "metadata": {},
   "outputs": [
    {
     "name": "stdout",
     "output_type": "stream",
     "text": [
      "0\n",
      "1\n",
      "2\n",
      "3\n",
      "4\n",
      "5\n",
      "6\n",
      "7\n",
      "8\n",
      "9\n"
     ]
    }
   ],
   "source": [
    "for i in range(0,10):\n",
    "    print(i)"
   ]
  },
  {
   "cell_type": "code",
   "execution_count": 140,
   "id": "76f51cf7-aab1-4308-abb1-b368921de0b9",
   "metadata": {},
   "outputs": [
    {
     "name": "stdout",
     "output_type": "stream",
     "text": [
      "1 * 1 = 1\n",
      "1 * 2 = 2\n",
      "1 * 3 = 3\n",
      "1 * 4 = 4\n",
      "1 * 5 = 5\n",
      "1 * 6 = 6\n",
      "1 * 7 = 7\n",
      "1 * 8 = 8\n",
      "1 * 9 = 9\n"
     ]
    }
   ],
   "source": [
    "x = 1\n",
    "num = 1\n",
    "for i in range(1,10):\n",
    " print(x ,\"*\", i ,\"=\", x*i)\n",
    "\n",
    "x = i + 1\n",
    " \n",
    "  \n",
    " "
   ]
  },
  {
   "cell_type": "code",
   "execution_count": 120,
   "id": "44c1b690-f11d-4519-b951-84e0c15262f3",
   "metadata": {},
   "outputs": [
    {
     "name": "stdout",
     "output_type": "stream",
     "text": [
      "3\n",
      "5\n",
      "7\n",
      "9\n"
     ]
    }
   ],
   "source": [
    "k = 1\n",
    "v = 10\n",
    "while k < v :\n",
    "    k = k + 1\n",
    "    if k % 2 == 0:\n",
    "        continue\n",
    "    print(k)"
   ]
  },
  {
   "cell_type": "code",
   "execution_count": null,
   "id": "0479eaea-d341-4229-b191-38b0464d16ed",
   "metadata": {},
   "outputs": [],
   "source": []
  }
 ],
 "metadata": {
  "kernelspec": {
   "display_name": "Python 3 (ipykernel)",
   "language": "python",
   "name": "python3"
  },
  "language_info": {
   "codemirror_mode": {
    "name": "ipython",
    "version": 3
   },
   "file_extension": ".py",
   "mimetype": "text/x-python",
   "name": "python",
   "nbconvert_exporter": "python",
   "pygments_lexer": "ipython3",
   "version": "3.11.7"
  }
 },
 "nbformat": 4,
 "nbformat_minor": 5
}
