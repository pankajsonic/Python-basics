{
 "cells": [
  {
   "cell_type": "code",
   "execution_count": 1,
   "id": "035e99a2-c516-41c5-8f77-66e166b1cfe6",
   "metadata": {},
   "outputs": [
    {
     "name": "stdout",
     "output_type": "stream",
     "text": [
      "1\n",
      "2\n",
      "3\n",
      "4\n",
      "5\n"
     ]
    }
   ],
   "source": [
    "x = 6\n",
    "k = 1\n",
    "while k<x:\n",
    "    print(k)\n",
    "    k = k + 1"
   ]
  },
  {
   "cell_type": "code",
   "execution_count": 2,
   "id": "5872a33e-1e42-491d-b70f-cb47dfb2c0f4",
   "metadata": {},
   "outputs": [
    {
     "name": "stdout",
     "output_type": "stream",
     "text": [
      "2\n",
      "4\n",
      "6\n",
      "8\n",
      "10\n",
      "12\n",
      "14\n",
      "16\n",
      "18\n",
      "20\n"
     ]
    }
   ],
   "source": [
    "x = 11\n",
    "k = 1\n",
    "while k<x:\n",
    "    print(k+k)\n",
    "    k = k + 1"
   ]
  },
  {
   "cell_type": "code",
   "execution_count": 3,
   "id": "251583da-e213-40b6-a114-a765c8375e81",
   "metadata": {},
   "outputs": [
    {
     "name": "stdout",
     "output_type": "stream",
     "text": [
      "362880\n"
     ]
    }
   ],
   "source": [
    "x = 10\n",
    "num = 1\n",
    "for i in range(1,10):\n",
    "    num = num*i \n",
    "print(num)"
   ]
  },
  {
   "cell_type": "code",
   "execution_count": 56,
   "id": "2afbe8d9-b51f-467e-9bb9-2907a50d233b",
   "metadata": {},
   "outputs": [
    {
     "name": "stdout",
     "output_type": "stream",
     "text": [
      "1  - the vowel is  0\n",
      "2  - the vowel is  2\n",
      "3  - the vowel is  4\n",
      "4  - the vowel is  6\n",
      "5  - the vowel is  8\n"
     ]
    }
   ],
   "source": [
    "k = 1\n",
    "for i in range(0,10):\n",
    "      if i % 2 != 0:\n",
    "        continue\n",
    "      print( k ,\" - the vowel is \",i)\n",
    "      k = k+1"
   ]
  },
  {
   "cell_type": "code",
   "execution_count": 57,
   "id": "5d56c21a-81d3-4808-a41a-da2ab3a0705f",
   "metadata": {},
   "outputs": [
    {
     "name": "stdout",
     "output_type": "stream",
     "text": [
      "$ \n",
      "$ $ \n",
      "$ $ $ \n",
      "$ $ $ $ \n",
      "$ $ $ $ $ \n",
      "$ $ $ $ $ $ \n",
      "$ $ $ $ $ $ $ \n",
      "$ $ $ $ $ $ $ $ \n",
      "$ $ $ $ $ $ $ $ $ \n",
      "$ $ $ $ $ $ $ $ $ $ \n"
     ]
    }
   ],
   "source": [
    "for i in range(10):\n",
    "    for k in range(i+1):\n",
    "        print(\"$\",end =\" \")\n",
    "    print()\n",
    "    "
   ]
  },
  {
   "cell_type": "code",
   "execution_count": 70,
   "id": "f47f9486-2230-484c-a322-f87a8c2aa0b9",
   "metadata": {},
   "outputs": [
    {
     "name": "stdout",
     "output_type": "stream",
     "text": [
      "1 * 1 = 5\n",
      "1 * 2 = 10\n",
      "1 * 3 = 15\n",
      "1 * 4 = 20\n",
      "1 * 5 = 25\n",
      "1 * 6 = 30\n",
      "1 * 7 = 35\n",
      "1 * 8 = 40\n",
      "1 * 9 = 45\n"
     ]
    }
   ],
   "source": [
    "x = 5\n",
    "num = 1\n",
    "for i in range(1,10):\n",
    " print(num,\"*\",i,\"=\",x*i)\n",
    " "
   ]
  },
  {
   "cell_type": "code",
   "execution_count": null,
   "id": "c95f632c-ea16-4e54-9df0-f1cdd306ff26",
   "metadata": {},
   "outputs": [],
   "source": []
  }
 ],
 "metadata": {
  "kernelspec": {
   "display_name": "Python 3 (ipykernel)",
   "language": "python",
   "name": "python3"
  },
  "language_info": {
   "codemirror_mode": {
    "name": "ipython",
    "version": 3
   },
   "file_extension": ".py",
   "mimetype": "text/x-python",
   "name": "python",
   "nbconvert_exporter": "python",
   "pygments_lexer": "ipython3",
   "version": "3.11.7"
  }
 },
 "nbformat": 4,
 "nbformat_minor": 5
}
