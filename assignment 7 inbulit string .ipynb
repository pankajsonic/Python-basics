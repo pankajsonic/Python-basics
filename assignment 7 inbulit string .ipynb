{
 "cells": [
  {
   "cell_type": "code",
   "execution_count": 3,
   "id": "97e60340-798c-448b-b60d-3b2d48016d77",
   "metadata": {},
   "outputs": [
    {
     "data": {
      "text/plain": [
       "'fire and ice'"
      ]
     },
     "execution_count": 3,
     "metadata": {},
     "output_type": "execute_result"
    }
   ],
   "source": [
    "#quws 2\n",
    "# ams - len function is used to find length() of the string. for ex-\n",
    "a = \"fire\"\n",
    "b = \" and\"\n",
    "c = \" ice\"\n",
    "\n",
    "a+b+c\n"
   ]
  },
  {
   "cell_type": "code",
   "execution_count": 8,
   "id": "1ae4b7df-f2a1-4344-9267-c029daa9f147",
   "metadata": {},
   "outputs": [
    {
     "name": "stdout",
     "output_type": "stream",
     "text": [
      "[3, 4, 5, 6]\n"
     ]
    }
   ],
   "source": [
    "#ques 3 - \n",
    "#ans - A slice object is used to specify how to slice a sequence. You can specify where to start the slicing, and where to end.\n",
    "print(lst[2:6])\n",
    "       "
   ]
  },
  {
   "cell_type": "code",
   "execution_count": 28,
   "id": "c73ca0a7-cbc1-4598-b382-91c71d34caea",
   "metadata": {},
   "outputs": [
    {
     "name": "stdout",
     "output_type": "stream",
     "text": [
      "success, love\n",
      "Rejection , Invaluable\n"
     ]
    }
   ],
   "source": [
    "#ques 4 - \n",
    "#ans - \n",
    "money = \"success, love\"\n",
    "failure = \"Rejection , Invaluable\"\n",
    "print(money)\n",
    "print(failure)\n",
    "\n",
    " \n"
   ]
  },
  {
   "cell_type": "code",
   "execution_count": 27,
   "id": "48cbc2e7-2c0e-4792-8057-f1170bbbdaea",
   "metadata": {},
   "outputs": [
    {
     "data": {
      "text/plain": [
       "'SUCCESS, LOVE'"
      ]
     },
     "execution_count": 27,
     "metadata": {},
     "output_type": "execute_result"
    }
   ],
   "source": [
    "money.upper()\n",
    "failu"
   ]
  },
  {
   "cell_type": "code",
   "execution_count": 1,
   "id": "ae4e9e2c-8431-44c1-bc8b-02969e513c12",
   "metadata": {},
   "outputs": [
    {
     "data": {
      "text/plain": [
       "'one piece, naruto, bleach,aot , vinland saga'"
      ]
     },
     "execution_count": 1,
     "metadata": {},
     "output_type": "execute_result"
    }
   ],
   "source": [
    "#ques 5 - \n",
    "# ans - Python String split() method splits a string into a list of strings after breaking the given string by the specified separator.\n",
    "anime = \"one piece, naruto, bleach,aot , vinland saga\"\n",
    "anime\n"
   ]
  },
  {
   "cell_type": "code",
   "execution_count": 9,
   "id": "ab3a9b9c-d593-4288-935f-d96307defd6f",
   "metadata": {},
   "outputs": [
    {
     "data": {
      "text/plain": [
       "['one piece', ' naruto', ' bleach', 'aot ', ' vinland saga']"
      ]
     },
     "execution_count": 9,
     "metadata": {},
     "output_type": "execute_result"
    }
   ],
   "source": [
    " anime.split(\",\")"
   ]
  },
  {
   "cell_type": "code",
   "execution_count": 13,
   "id": "4f868c36-58d4-42bf-8179-2322bbe32872",
   "metadata": {},
   "outputs": [
    {
     "name": "stdout",
     "output_type": "stream",
     "text": [
      "['one piece', ' naruto', ' bleach', 'aot ', ' vinland saga']\n"
     ]
    }
   ],
   "source": [
    "show = anime.split(\",\")\n",
    "print(show)"
   ]
  },
  {
   "cell_type": "code",
   "execution_count": 15,
   "id": "ece2bc30-0133-4223-9c52-723e3d3dd130",
   "metadata": {},
   "outputs": [],
   "source": [
    "best_show = show[0]"
   ]
  },
  {
   "cell_type": "code",
   "execution_count": 16,
   "id": "58677942-2071-4434-9922-3417bba78258",
   "metadata": {},
   "outputs": [
    {
     "data": {
      "text/plain": [
       "'one piece'"
      ]
     },
     "execution_count": 16,
     "metadata": {},
     "output_type": "execute_result"
    }
   ],
   "source": [
    "best_show"
   ]
  },
  {
   "cell_type": "code",
   "execution_count": 20,
   "id": "3b7e1970-3259-4102-9efd-89b9bccce31b",
   "metadata": {},
   "outputs": [
    {
     "data": {
      "text/plain": [
       "5"
      ]
     },
     "execution_count": 20,
     "metadata": {},
     "output_type": "execute_result"
    }
   ],
   "source": [
    "#ques 1 - \n",
    "#ans - len() function is used to find length of the string.\n",
    "\n",
    "len(show)"
   ]
  },
  {
   "cell_type": "code",
   "execution_count": null,
   "id": "608810a8-571e-431a-a968-2c47bc84b152",
   "metadata": {},
   "outputs": [],
   "source": []
  }
 ],
 "metadata": {
  "kernelspec": {
   "display_name": "Python 3 (ipykernel)",
   "language": "python",
   "name": "python3"
  },
  "language_info": {
   "codemirror_mode": {
    "name": "ipython",
    "version": 3
   },
   "file_extension": ".py",
   "mimetype": "text/x-python",
   "name": "python",
   "nbconvert_exporter": "python",
   "pygments_lexer": "ipython3",
   "version": "3.11.7"
  }
 },
 "nbformat": 4,
 "nbformat_minor": 5
}
